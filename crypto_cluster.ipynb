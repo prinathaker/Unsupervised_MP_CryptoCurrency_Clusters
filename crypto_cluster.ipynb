{
 "cells": [
  {
   "cell_type": "code",
   "execution_count": 15,
   "metadata": {},
   "outputs": [],
   "source": [
    "# Initial imports\n",
    "import pandas as pd\n",
    "from pathlib import Path"
   ]
  },
  {
   "cell_type": "code",
   "execution_count": 16,
   "metadata": {},
   "outputs": [
    {
     "data": {
      "text/plain": [
       "(1252, 7)"
      ]
     },
     "execution_count": 16,
     "metadata": {},
     "output_type": "execute_result"
    }
   ],
   "source": [
    "#Data Loading\n",
    "file_path = Path(\"./Instructions/crypto_data.csv\")\n",
    "df_crypto = pd.read_csv(file_path)\n",
    "df_crypto.head()\n",
    "df_crypto.shape"
   ]
  },
  {
   "cell_type": "code",
   "execution_count": 17,
   "metadata": {},
   "outputs": [
    {
     "data": {
      "text/plain": [
       "(1144, 7)"
      ]
     },
     "execution_count": 17,
     "metadata": {},
     "output_type": "execute_result"
    }
   ],
   "source": [
    "#Eliminate crypto currencies that don't trade\n",
    "df_crypto2 = df_crypto[df_crypto.IsTrading == True]\n",
    "df_crypto2.shape"
   ]
  },
  {
   "cell_type": "code",
   "execution_count": 18,
   "metadata": {},
   "outputs": [
    {
     "data": {
      "text/plain": [
       "(1144, 6)"
      ]
     },
     "execution_count": 18,
     "metadata": {},
     "output_type": "execute_result"
    }
   ],
   "source": [
    "#drop the IsTrading column\n",
    "df_crypto3 = df_crypto2.drop(columns=[\"IsTrading\"])\n",
    "df_crypto3.shape"
   ]
  },
  {
   "cell_type": "code",
   "execution_count": 19,
   "metadata": {},
   "outputs": [
    {
     "data": {
      "text/plain": [
       "(685, 6)"
      ]
     },
     "execution_count": 19,
     "metadata": {},
     "output_type": "execute_result"
    }
   ],
   "source": [
    "#Drop any rows with null values\n",
    "df_crypto4 = df_crypto3.dropna()\n",
    "df_crypto4.shape"
   ]
  },
  {
   "cell_type": "code",
   "execution_count": 20,
   "metadata": {},
   "outputs": [
    {
     "data": {
      "text/plain": [
       "Algorithm           object\n",
       "ProofType           object\n",
       "TotalCoinsMined    float64\n",
       "TotalCoinSupply    float64\n",
       "dtype: object"
      ]
     },
     "execution_count": 20,
     "metadata": {},
     "output_type": "execute_result"
    }
   ],
   "source": [
    "#Drop the unneccesary columns\n",
    "df_crypto4.head()\n",
    "df_crypto5 = df_crypto4.drop(columns=[\"CoinName\",\"Unnamed: 0\"])\n",
    "df_crypto5.shape\n",
    "df_crypto5.TotalCoinSupply = df_crypto5.TotalCoinSupply.astype(float)\n",
    "df_crypto5.dtypes"
   ]
  },
  {
   "cell_type": "code",
   "execution_count": 21,
   "metadata": {},
   "outputs": [
    {
     "data": {
      "text/plain": [
       "(685, 109)"
      ]
     },
     "execution_count": 21,
     "metadata": {},
     "output_type": "execute_result"
    }
   ],
   "source": [
    "# create dummy variables for categorized columns\n",
    "df_crypto6 = pd.get_dummies(df_crypto5)\n",
    "df_crypto6.shape"
   ]
  },
  {
   "cell_type": "code",
   "execution_count": 22,
   "metadata": {},
   "outputs": [
    {
     "data": {
      "text/html": [
       "<div>\n",
       "<style scoped>\n",
       "    .dataframe tbody tr th:only-of-type {\n",
       "        vertical-align: middle;\n",
       "    }\n",
       "\n",
       "    .dataframe tbody tr th {\n",
       "        vertical-align: top;\n",
       "    }\n",
       "\n",
       "    .dataframe thead th {\n",
       "        text-align: right;\n",
       "    }\n",
       "</style>\n",
       "<table border=\"1\" class=\"dataframe\">\n",
       "  <thead>\n",
       "    <tr style=\"text-align: right;\">\n",
       "      <th></th>\n",
       "      <th>0</th>\n",
       "      <th>1</th>\n",
       "      <th>2</th>\n",
       "      <th>3</th>\n",
       "      <th>4</th>\n",
       "      <th>5</th>\n",
       "      <th>6</th>\n",
       "      <th>7</th>\n",
       "      <th>8</th>\n",
       "      <th>9</th>\n",
       "      <th>...</th>\n",
       "      <th>74</th>\n",
       "      <th>75</th>\n",
       "      <th>76</th>\n",
       "      <th>77</th>\n",
       "      <th>78</th>\n",
       "      <th>79</th>\n",
       "      <th>80</th>\n",
       "      <th>81</th>\n",
       "      <th>82</th>\n",
       "      <th>83</th>\n",
       "    </tr>\n",
       "  </thead>\n",
       "  <tbody>\n",
       "    <tr>\n",
       "      <th>0</th>\n",
       "      <td>-0.226931</td>\n",
       "      <td>1.233286</td>\n",
       "      <td>-0.494639</td>\n",
       "      <td>-3.074211e-07</td>\n",
       "      <td>-2.180976e-10</td>\n",
       "      <td>2.108099e-10</td>\n",
       "      <td>1.021962e-10</td>\n",
       "      <td>-1.002219e-10</td>\n",
       "      <td>0.015015</td>\n",
       "      <td>-1.108822</td>\n",
       "      <td>...</td>\n",
       "      <td>6.615687e-13</td>\n",
       "      <td>-4.332289e-13</td>\n",
       "      <td>-7.912200e-13</td>\n",
       "      <td>-1.754659e-13</td>\n",
       "      <td>-5.280842e-14</td>\n",
       "      <td>5.871498e-13</td>\n",
       "      <td>3.583707e-13</td>\n",
       "      <td>7.472408e-14</td>\n",
       "      <td>7.904338e-13</td>\n",
       "      <td>4.561725e-13</td>\n",
       "    </tr>\n",
       "    <tr>\n",
       "      <th>1</th>\n",
       "      <td>-0.212511</td>\n",
       "      <td>1.231877</td>\n",
       "      <td>-0.495250</td>\n",
       "      <td>-3.074212e-07</td>\n",
       "      <td>-2.180975e-10</td>\n",
       "      <td>2.108098e-10</td>\n",
       "      <td>1.021964e-10</td>\n",
       "      <td>-1.002222e-10</td>\n",
       "      <td>0.013635</td>\n",
       "      <td>-1.111887</td>\n",
       "      <td>...</td>\n",
       "      <td>6.613265e-13</td>\n",
       "      <td>-4.340645e-13</td>\n",
       "      <td>-7.912020e-13</td>\n",
       "      <td>-1.748923e-13</td>\n",
       "      <td>-5.312238e-14</td>\n",
       "      <td>5.868439e-13</td>\n",
       "      <td>3.594314e-13</td>\n",
       "      <td>7.460454e-14</td>\n",
       "      <td>7.891817e-13</td>\n",
       "      <td>4.553372e-13</td>\n",
       "    </tr>\n",
       "    <tr>\n",
       "      <th>2</th>\n",
       "      <td>-0.156502</td>\n",
       "      <td>0.820326</td>\n",
       "      <td>-0.304937</td>\n",
       "      <td>-2.267267e-07</td>\n",
       "      <td>-1.608530e-10</td>\n",
       "      <td>1.554762e-10</td>\n",
       "      <td>7.537129e-11</td>\n",
       "      <td>-7.391410e-11</td>\n",
       "      <td>-0.001711</td>\n",
       "      <td>-0.625905</td>\n",
       "      <td>...</td>\n",
       "      <td>7.792531e-15</td>\n",
       "      <td>-1.935649e-14</td>\n",
       "      <td>-6.213731e-15</td>\n",
       "      <td>3.019814e-15</td>\n",
       "      <td>6.244676e-15</td>\n",
       "      <td>4.135201e-16</td>\n",
       "      <td>4.908824e-15</td>\n",
       "      <td>-3.361548e-15</td>\n",
       "      <td>3.291779e-15</td>\n",
       "      <td>7.248567e-16</td>\n",
       "    </tr>\n",
       "    <tr>\n",
       "      <th>3</th>\n",
       "      <td>0.284201</td>\n",
       "      <td>1.971340</td>\n",
       "      <td>-0.537186</td>\n",
       "      <td>-4.518585e-07</td>\n",
       "      <td>-3.205806e-10</td>\n",
       "      <td>3.098613e-10</td>\n",
       "      <td>1.502117e-10</td>\n",
       "      <td>-1.472873e-10</td>\n",
       "      <td>-0.030183</td>\n",
       "      <td>-0.827578</td>\n",
       "      <td>...</td>\n",
       "      <td>4.932346e-14</td>\n",
       "      <td>-2.279627e-14</td>\n",
       "      <td>-5.241688e-14</td>\n",
       "      <td>1.839631e-14</td>\n",
       "      <td>2.997910e-14</td>\n",
       "      <td>4.604982e-14</td>\n",
       "      <td>6.059332e-14</td>\n",
       "      <td>-1.113407e-14</td>\n",
       "      <td>-5.690006e-14</td>\n",
       "      <td>2.232575e-14</td>\n",
       "    </tr>\n",
       "    <tr>\n",
       "      <th>4</th>\n",
       "      <td>-0.208425</td>\n",
       "      <td>-1.471116</td>\n",
       "      <td>0.135380</td>\n",
       "      <td>1.813074e-07</td>\n",
       "      <td>1.286361e-10</td>\n",
       "      <td>-1.243346e-10</td>\n",
       "      <td>-6.027293e-11</td>\n",
       "      <td>5.910834e-11</td>\n",
       "      <td>-0.004237</td>\n",
       "      <td>0.064427</td>\n",
       "      <td>...</td>\n",
       "      <td>8.976690e-15</td>\n",
       "      <td>-1.532681e-14</td>\n",
       "      <td>-8.214744e-15</td>\n",
       "      <td>2.491594e-15</td>\n",
       "      <td>6.021511e-15</td>\n",
       "      <td>4.103819e-15</td>\n",
       "      <td>8.382820e-15</td>\n",
       "      <td>-2.820517e-15</td>\n",
       "      <td>-6.859142e-16</td>\n",
       "      <td>1.683917e-15</td>\n",
       "    </tr>\n",
       "    <tr>\n",
       "      <th>...</th>\n",
       "      <td>...</td>\n",
       "      <td>...</td>\n",
       "      <td>...</td>\n",
       "      <td>...</td>\n",
       "      <td>...</td>\n",
       "      <td>...</td>\n",
       "      <td>...</td>\n",
       "      <td>...</td>\n",
       "      <td>...</td>\n",
       "      <td>...</td>\n",
       "      <td>...</td>\n",
       "      <td>...</td>\n",
       "      <td>...</td>\n",
       "      <td>...</td>\n",
       "      <td>...</td>\n",
       "      <td>...</td>\n",
       "      <td>...</td>\n",
       "      <td>...</td>\n",
       "      <td>...</td>\n",
       "      <td>...</td>\n",
       "      <td>...</td>\n",
       "    </tr>\n",
       "    <tr>\n",
       "      <th>680</th>\n",
       "      <td>4.075540</td>\n",
       "      <td>-0.136391</td>\n",
       "      <td>-0.097843</td>\n",
       "      <td>-8.429465e-08</td>\n",
       "      <td>-5.978639e-11</td>\n",
       "      <td>5.777926e-11</td>\n",
       "      <td>2.800451e-11</td>\n",
       "      <td>-2.745945e-11</td>\n",
       "      <td>-1.094977</td>\n",
       "      <td>0.736512</td>\n",
       "      <td>...</td>\n",
       "      <td>7.265293e-15</td>\n",
       "      <td>-1.808396e-14</td>\n",
       "      <td>-7.146047e-15</td>\n",
       "      <td>4.662615e-15</td>\n",
       "      <td>7.084925e-15</td>\n",
       "      <td>1.609729e-15</td>\n",
       "      <td>6.131727e-15</td>\n",
       "      <td>-2.233795e-15</td>\n",
       "      <td>1.687459e-17</td>\n",
       "      <td>-1.334659e-15</td>\n",
       "    </tr>\n",
       "    <tr>\n",
       "      <th>681</th>\n",
       "      <td>-0.226727</td>\n",
       "      <td>1.233266</td>\n",
       "      <td>-0.494647</td>\n",
       "      <td>-3.074211e-07</td>\n",
       "      <td>-2.180975e-10</td>\n",
       "      <td>2.108099e-10</td>\n",
       "      <td>1.021964e-10</td>\n",
       "      <td>-1.002221e-10</td>\n",
       "      <td>0.014996</td>\n",
       "      <td>-1.108865</td>\n",
       "      <td>...</td>\n",
       "      <td>6.613781e-13</td>\n",
       "      <td>-4.337000e-13</td>\n",
       "      <td>-7.914579e-13</td>\n",
       "      <td>-1.752115e-13</td>\n",
       "      <td>-5.303080e-14</td>\n",
       "      <td>5.868420e-13</td>\n",
       "      <td>3.594746e-13</td>\n",
       "      <td>7.480133e-14</td>\n",
       "      <td>7.893221e-13</td>\n",
       "      <td>4.553282e-13</td>\n",
       "    </tr>\n",
       "    <tr>\n",
       "      <th>682</th>\n",
       "      <td>-0.121196</td>\n",
       "      <td>-2.314110</td>\n",
       "      <td>0.284863</td>\n",
       "      <td>3.476580e-07</td>\n",
       "      <td>2.466611e-10</td>\n",
       "      <td>-2.384097e-10</td>\n",
       "      <td>-1.155739e-10</td>\n",
       "      <td>1.133284e-10</td>\n",
       "      <td>-0.001641</td>\n",
       "      <td>-0.011329</td>\n",
       "      <td>...</td>\n",
       "      <td>5.806607e-14</td>\n",
       "      <td>-1.109223e-13</td>\n",
       "      <td>-1.631028e-14</td>\n",
       "      <td>2.286559e-14</td>\n",
       "      <td>2.212354e-14</td>\n",
       "      <td>-4.422668e-14</td>\n",
       "      <td>-4.144151e-15</td>\n",
       "      <td>3.404714e-14</td>\n",
       "      <td>3.659870e-14</td>\n",
       "      <td>-8.791254e-15</td>\n",
       "    </tr>\n",
       "    <tr>\n",
       "      <th>683</th>\n",
       "      <td>-0.277782</td>\n",
       "      <td>-2.030379</td>\n",
       "      <td>0.262191</td>\n",
       "      <td>3.014882e-07</td>\n",
       "      <td>2.139009e-10</td>\n",
       "      <td>-2.067489e-10</td>\n",
       "      <td>-1.002247e-10</td>\n",
       "      <td>9.828546e-11</td>\n",
       "      <td>0.017138</td>\n",
       "      <td>0.161203</td>\n",
       "      <td>...</td>\n",
       "      <td>6.608782e-13</td>\n",
       "      <td>-4.298653e-13</td>\n",
       "      <td>-7.966319e-13</td>\n",
       "      <td>-1.716760e-13</td>\n",
       "      <td>-5.471934e-14</td>\n",
       "      <td>5.935268e-13</td>\n",
       "      <td>3.654135e-13</td>\n",
       "      <td>7.490203e-14</td>\n",
       "      <td>7.839293e-13</td>\n",
       "      <td>4.565011e-13</td>\n",
       "    </tr>\n",
       "    <tr>\n",
       "      <th>684</th>\n",
       "      <td>-0.089348</td>\n",
       "      <td>0.776902</td>\n",
       "      <td>-0.204001</td>\n",
       "      <td>-2.081479e-07</td>\n",
       "      <td>-1.476763e-10</td>\n",
       "      <td>1.427390e-10</td>\n",
       "      <td>6.919529e-11</td>\n",
       "      <td>-6.785758e-11</td>\n",
       "      <td>-0.019264</td>\n",
       "      <td>1.307668</td>\n",
       "      <td>...</td>\n",
       "      <td>6.636621e-13</td>\n",
       "      <td>-4.312716e-13</td>\n",
       "      <td>-7.950860e-13</td>\n",
       "      <td>-1.754575e-13</td>\n",
       "      <td>-5.035692e-14</td>\n",
       "      <td>5.893516e-13</td>\n",
       "      <td>3.623463e-13</td>\n",
       "      <td>7.535241e-14</td>\n",
       "      <td>7.862070e-13</td>\n",
       "      <td>4.553905e-13</td>\n",
       "    </tr>\n",
       "  </tbody>\n",
       "</table>\n",
       "<p>685 rows × 84 columns</p>\n",
       "</div>"
      ],
      "text/plain": [
       "           0         1         2             3             4             5   \\\n",
       "0   -0.226931  1.233286 -0.494639 -3.074211e-07 -2.180976e-10  2.108099e-10   \n",
       "1   -0.212511  1.231877 -0.495250 -3.074212e-07 -2.180975e-10  2.108098e-10   \n",
       "2   -0.156502  0.820326 -0.304937 -2.267267e-07 -1.608530e-10  1.554762e-10   \n",
       "3    0.284201  1.971340 -0.537186 -4.518585e-07 -3.205806e-10  3.098613e-10   \n",
       "4   -0.208425 -1.471116  0.135380  1.813074e-07  1.286361e-10 -1.243346e-10   \n",
       "..        ...       ...       ...           ...           ...           ...   \n",
       "680  4.075540 -0.136391 -0.097843 -8.429465e-08 -5.978639e-11  5.777926e-11   \n",
       "681 -0.226727  1.233266 -0.494647 -3.074211e-07 -2.180975e-10  2.108099e-10   \n",
       "682 -0.121196 -2.314110  0.284863  3.476580e-07  2.466611e-10 -2.384097e-10   \n",
       "683 -0.277782 -2.030379  0.262191  3.014882e-07  2.139009e-10 -2.067489e-10   \n",
       "684 -0.089348  0.776902 -0.204001 -2.081479e-07 -1.476763e-10  1.427390e-10   \n",
       "\n",
       "               6             7         8         9   ...            74  \\\n",
       "0    1.021962e-10 -1.002219e-10  0.015015 -1.108822  ...  6.615687e-13   \n",
       "1    1.021964e-10 -1.002222e-10  0.013635 -1.111887  ...  6.613265e-13   \n",
       "2    7.537129e-11 -7.391410e-11 -0.001711 -0.625905  ...  7.792531e-15   \n",
       "3    1.502117e-10 -1.472873e-10 -0.030183 -0.827578  ...  4.932346e-14   \n",
       "4   -6.027293e-11  5.910834e-11 -0.004237  0.064427  ...  8.976690e-15   \n",
       "..            ...           ...       ...       ...  ...           ...   \n",
       "680  2.800451e-11 -2.745945e-11 -1.094977  0.736512  ...  7.265293e-15   \n",
       "681  1.021964e-10 -1.002221e-10  0.014996 -1.108865  ...  6.613781e-13   \n",
       "682 -1.155739e-10  1.133284e-10 -0.001641 -0.011329  ...  5.806607e-14   \n",
       "683 -1.002247e-10  9.828546e-11  0.017138  0.161203  ...  6.608782e-13   \n",
       "684  6.919529e-11 -6.785758e-11 -0.019264  1.307668  ...  6.636621e-13   \n",
       "\n",
       "               75            76            77            78            79  \\\n",
       "0   -4.332289e-13 -7.912200e-13 -1.754659e-13 -5.280842e-14  5.871498e-13   \n",
       "1   -4.340645e-13 -7.912020e-13 -1.748923e-13 -5.312238e-14  5.868439e-13   \n",
       "2   -1.935649e-14 -6.213731e-15  3.019814e-15  6.244676e-15  4.135201e-16   \n",
       "3   -2.279627e-14 -5.241688e-14  1.839631e-14  2.997910e-14  4.604982e-14   \n",
       "4   -1.532681e-14 -8.214744e-15  2.491594e-15  6.021511e-15  4.103819e-15   \n",
       "..            ...           ...           ...           ...           ...   \n",
       "680 -1.808396e-14 -7.146047e-15  4.662615e-15  7.084925e-15  1.609729e-15   \n",
       "681 -4.337000e-13 -7.914579e-13 -1.752115e-13 -5.303080e-14  5.868420e-13   \n",
       "682 -1.109223e-13 -1.631028e-14  2.286559e-14  2.212354e-14 -4.422668e-14   \n",
       "683 -4.298653e-13 -7.966319e-13 -1.716760e-13 -5.471934e-14  5.935268e-13   \n",
       "684 -4.312716e-13 -7.950860e-13 -1.754575e-13 -5.035692e-14  5.893516e-13   \n",
       "\n",
       "               80            81            82            83  \n",
       "0    3.583707e-13  7.472408e-14  7.904338e-13  4.561725e-13  \n",
       "1    3.594314e-13  7.460454e-14  7.891817e-13  4.553372e-13  \n",
       "2    4.908824e-15 -3.361548e-15  3.291779e-15  7.248567e-16  \n",
       "3    6.059332e-14 -1.113407e-14 -5.690006e-14  2.232575e-14  \n",
       "4    8.382820e-15 -2.820517e-15 -6.859142e-16  1.683917e-15  \n",
       "..            ...           ...           ...           ...  \n",
       "680  6.131727e-15 -2.233795e-15  1.687459e-17 -1.334659e-15  \n",
       "681  3.594746e-13  7.480133e-14  7.893221e-13  4.553282e-13  \n",
       "682 -4.144151e-15  3.404714e-14  3.659870e-14 -8.791254e-15  \n",
       "683  3.654135e-13  7.490203e-14  7.839293e-13  4.565011e-13  \n",
       "684  3.623463e-13  7.535241e-14  7.862070e-13  4.553905e-13  \n",
       "\n",
       "[685 rows x 84 columns]"
      ]
     },
     "execution_count": 22,
     "metadata": {},
     "output_type": "execute_result"
    }
   ],
   "source": [
    "from sklearn.preprocessing import StandardScaler\n",
    "from sklearn.decomposition import PCA\n",
    "\n",
    "pca = PCA(n_components=.90)\n",
    "\n",
    "df_crypto6_scaled = StandardScaler().fit_transform(df_crypto6)\n",
    "\n",
    "crypto6_pca = pca.fit_transform(df_crypto6_scaled)\n",
    "\n",
    "df_crypto6_pca = pd.DataFrame(data=crypto6_pca)\n",
    "\n",
    "df_crypto6_pca"
   ]
  },
  {
   "cell_type": "markdown",
   "metadata": {},
   "source": [
    "PCA reduced the number of features down to 84"
   ]
  },
  {
   "cell_type": "code",
   "execution_count": 23,
   "metadata": {},
   "outputs": [
    {
     "name": "stderr",
     "output_type": "stream",
     "text": [
      "/Users/Pulast/opt/anaconda3/lib/python3.8/site-packages/sklearn/manifold/_t_sne.py:780: FutureWarning: The default initialization in TSNE will change from 'random' to 'pca' in 1.2.\n",
      "  warnings.warn(\n"
     ]
    }
   ],
   "source": [
    "from sklearn.manifold import TSNE\n",
    "\n",
    "# Initialize t-SNE model\n",
    "tsne = TSNE(learning_rate=35)\n",
    "\n",
    "# Reduce dimensions\n",
    "tsne_features = tsne.fit_transform(crypto6_pca)"
   ]
  },
  {
   "cell_type": "code",
   "execution_count": 11,
   "metadata": {},
   "outputs": [
    {
     "data": {
      "text/plain": [
       "(685, 2)"
      ]
     },
     "execution_count": 11,
     "metadata": {},
     "output_type": "execute_result"
    }
   ],
   "source": [
    "tsne_features.shape"
   ]
  },
  {
   "cell_type": "code",
   "execution_count": 12,
   "metadata": {},
   "outputs": [
    {
     "data": {
      "text/html": [
       "<div>\n",
       "<style scoped>\n",
       "    .dataframe tbody tr th:only-of-type {\n",
       "        vertical-align: middle;\n",
       "    }\n",
       "\n",
       "    .dataframe tbody tr th {\n",
       "        vertical-align: top;\n",
       "    }\n",
       "\n",
       "    .dataframe thead th {\n",
       "        text-align: right;\n",
       "    }\n",
       "</style>\n",
       "<table border=\"1\" class=\"dataframe\">\n",
       "  <thead>\n",
       "    <tr style=\"text-align: right;\">\n",
       "      <th></th>\n",
       "      <th>x</th>\n",
       "      <th>y</th>\n",
       "    </tr>\n",
       "  </thead>\n",
       "  <tbody>\n",
       "    <tr>\n",
       "      <th>0</th>\n",
       "      <td>12.845104</td>\n",
       "      <td>-8.088160</td>\n",
       "    </tr>\n",
       "    <tr>\n",
       "      <th>1</th>\n",
       "      <td>20.540421</td>\n",
       "      <td>-6.839368</td>\n",
       "    </tr>\n",
       "    <tr>\n",
       "      <th>2</th>\n",
       "      <td>-19.973555</td>\n",
       "      <td>10.119443</td>\n",
       "    </tr>\n",
       "    <tr>\n",
       "      <th>3</th>\n",
       "      <td>14.032109</td>\n",
       "      <td>-27.877922</td>\n",
       "    </tr>\n",
       "    <tr>\n",
       "      <th>4</th>\n",
       "      <td>-26.860798</td>\n",
       "      <td>10.845538</td>\n",
       "    </tr>\n",
       "    <tr>\n",
       "      <th>...</th>\n",
       "      <td>...</td>\n",
       "      <td>...</td>\n",
       "    </tr>\n",
       "    <tr>\n",
       "      <th>680</th>\n",
       "      <td>-3.495762</td>\n",
       "      <td>4.580155</td>\n",
       "    </tr>\n",
       "    <tr>\n",
       "      <th>681</th>\n",
       "      <td>17.895214</td>\n",
       "      <td>-12.566206</td>\n",
       "    </tr>\n",
       "    <tr>\n",
       "      <th>682</th>\n",
       "      <td>19.158537</td>\n",
       "      <td>25.113472</td>\n",
       "    </tr>\n",
       "    <tr>\n",
       "      <th>683</th>\n",
       "      <td>-5.896993</td>\n",
       "      <td>22.970398</td>\n",
       "    </tr>\n",
       "    <tr>\n",
       "      <th>684</th>\n",
       "      <td>-6.160891</td>\n",
       "      <td>-4.890368</td>\n",
       "    </tr>\n",
       "  </tbody>\n",
       "</table>\n",
       "<p>685 rows × 2 columns</p>\n",
       "</div>"
      ],
      "text/plain": [
       "             x          y\n",
       "0    12.845104  -8.088160\n",
       "1    20.540421  -6.839368\n",
       "2   -19.973555  10.119443\n",
       "3    14.032109 -27.877922\n",
       "4   -26.860798  10.845538\n",
       "..         ...        ...\n",
       "680  -3.495762   4.580155\n",
       "681  17.895214 -12.566206\n",
       "682  19.158537  25.113472\n",
       "683  -5.896993  22.970398\n",
       "684  -6.160891  -4.890368\n",
       "\n",
       "[685 rows x 2 columns]"
      ]
     },
     "execution_count": 12,
     "metadata": {},
     "output_type": "execute_result"
    }
   ],
   "source": [
    "tsne_df = pd.DataFrame(tsne_features, columns=['x','y'])\n",
    "tsne_df"
   ]
  },
  {
   "cell_type": "code",
   "execution_count": 13,
   "metadata": {},
   "outputs": [
    {
     "data": {
      "image/png": "[encoded data removed]",
      "text/plain": [
       "<Figure size 432x288 with 1 Axes>"
      ]
     },
     "metadata": {
      "needs_background": "light"
     },
     "output_type": "display_data"
    }
   ],
   "source": [
    "import matplotlib.pyplot as plt\n",
    "plt.scatter(tsne_df['x'], tsne_df['y'])\n",
    "plt.show()"
   ]
  },
  {
   "cell_type": "code",
   "execution_count": 14,
   "metadata": {},
   "outputs": [
    {
     "data": {
      "image/png": "[encoded data removed]",
      "text/plain": [
       "<Figure size 432x288 with 1 Axes>"
      ]
     },
     "metadata": {
      "needs_background": "light"
     },
     "output_type": "display_data"
    }
   ],
   "source": [
    "import numpy as np\n",
    "from sklearn.cluster import KMeans\n",
    "\n",
    "inertia = []\n",
    "# Same as k = list(range(1, 11))\n",
    "k = [1,2,3,4,5,6,7,8,9,10]\n",
    "\n",
    "# Looking for the best k\n",
    "for i in k:\n",
    "    km = KMeans(n_clusters=i, random_state=0)\n",
    "    km.fit(tsne_df)\n",
    "    inertia.append(km.inertia_)\n",
    "\n",
    "# Define a DataFrame to plot the Elbow Curve using hvPlot\n",
    "elbow_data = {\"k\": k, \"inertia\": inertia}\n",
    "df_elbow = pd.DataFrame(elbow_data)\n",
    "\n",
    "plt.plot(df_elbow['k'], df_elbow['inertia'])\n",
    "plt.xticks(range(1,11))\n",
    "plt.xlabel('Number of clusters')\n",
    "plt.ylabel('Inertia')\n",
    "plt.show()"
   ]
  },
  {
   "cell_type": "markdown",
   "metadata": {},
   "source": [
    "Based on the visual plot from tsne and the K-Means elbow curve, I think that there are clusters of traded crypto currencies. Using the elbow curve, it looks like we get our biggest \"bang\" for the \"buck\" with a model of 4 clusters."
   ]
  }
 ],
 "metadata": {
  "kernelspec": {
   "display_name": "Python 3 (ipykernel)",
   "language": "python",
   "name": "python3"
  },
  "language_info": {
   "codemirror_mode": {
    "name": "ipython",
    "version": 3
   },
   "file_extension": ".py",
   "mimetype": "text/x-python",
   "name": "python",
   "nbconvert_exporter": "python",
   "pygments_lexer": "ipython3",
   "version": "3.8.12"
  },
  "widgets": {
   "application/vnd.jupyter.widget-state+json": {
    "state": {},
    "version_major": 2,
    "version_minor": 0
   }
  }
 },
 "nbformat": 4,
 "nbformat_minor": 4
}
